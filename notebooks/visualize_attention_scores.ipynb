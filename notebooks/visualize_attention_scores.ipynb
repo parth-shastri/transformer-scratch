{
 "cells": [
  {
   "cell_type": "code",
   "execution_count": 2,
   "metadata": {},
   "outputs": [],
   "source": [
    "import sys\n",
    "import os\n",
    "from matplotlib import pyplot as plt\n",
    "import torch\n",
    "\n",
    "sys.path.append(os.path.dirname(os.path.dirname(os.path.abspath(\"visualize_attention_scores.ipynb\"))))\n",
    "\n",
    "from model_utils import MultiHeadAttentionBlock"
   ]
  },
  {
   "cell_type": "code",
   "execution_count": 3,
   "metadata": {},
   "outputs": [],
   "source": [
    "# Define the attention block\n",
    "# with lets say 8 heads\n",
    "seq_len = 10  # define the seq_len to 10\n",
    "\n",
    "attention_block = MultiHeadAttentionBlock(d_model=256, h=8, dropout=0.1)"
   ]
  },
  {
   "cell_type": "code",
   "execution_count": 34,
   "metadata": {},
   "outputs": [
    {
     "name": "stdout",
     "output_type": "stream",
     "text": [
      "torch.Size([1, 1, 10, 10])\n",
      "tensor([[[[False,  True,  True,  True,  True,  True,  True,  True,  True,  True],\n",
      "          [False, False,  True,  True,  True,  True,  True,  True,  True,  True],\n",
      "          [False, False, False,  True,  True,  True,  True,  True,  True,  True],\n",
      "          [False, False, False, False,  True,  True,  True,  True,  True,  True],\n",
      "          [False, False, False, False, False,  True,  True,  True,  True,  True],\n",
      "          [False, False, False, False, False, False,  True,  True,  True,  True],\n",
      "          [False, False, False, False, False, False, False,  True,  True,  True],\n",
      "          [False, False, False, False, False, False, False, False,  True,  True],\n",
      "          [False, False, False, False, False, False, False, False, False,  True],\n",
      "          [False, False, False, False, False, False, False, False, False, False]]]])\n"
     ]
    }
   ],
   "source": [
    "# Now lets define the input embeddings for the key and query\n",
    "key_emb = torch.randn((1, 8, seq_len, 256))\n",
    "q_emb = torch.randn((1, 8, seq_len, 256))\n",
    "value_emb = torch.randn((1, 8, seq_len, 256))\n",
    "\n",
    "# define mask\n",
    "mask = (torch.triu(torch.ones((seq_len, seq_len)), diagonal=1).type(torch.uint8) == 1).unsqueeze(0).unsqueeze(0)\n",
    "print(mask.shape)\n",
    "print(mask)\n",
    "\n",
    "\n",
    "out, attn_scores = attention_block.attention(\n",
    "    q_emb,\n",
    "    key_emb,\n",
    "    value_emb,\n",
    "    mask=mask,\n",
    "    dropout=torch.nn.Dropout(0.1)\n",
    "    # dropout = None\n",
    "    )"
   ]
  },
  {
   "cell_type": "code",
   "execution_count": 35,
   "metadata": {},
   "outputs": [
    {
     "data": {
      "text/plain": [
       "torch.Size([8, 10, 10])"
      ]
     },
     "execution_count": 35,
     "metadata": {},
     "output_type": "execute_result"
    }
   ],
   "source": [
    "attn_scores = attn_scores.squeeze()\n",
    "attn_scores.shape"
   ]
  },
  {
   "cell_type": "code",
   "execution_count": 36,
   "metadata": {},
   "outputs": [
    {
     "data": {
      "image/png": "[encoded data removed]",
      "text/plain": [
       "<Figure size 640x480 with 8 Axes>"
      ]
     },
     "metadata": {},
     "output_type": "display_data"
    }
   ],
   "source": [
    "# Plot attn scores for each head\n",
    "fig, axs = plt.subplots(nrows=2, ncols=4)\n",
    "fig.suptitle(\"Attention Maps\")\n",
    "for j, attn_score in enumerate(attn_scores):\n",
    "    # assert (attn_score.sum(dim=-1) == 1.0).all() # not the case as we have used dropout\n",
    "    row = j // 4\n",
    "    col = j % 4\n",
    "    axs[row, col].imshow(attn_score.numpy(), cmap=\"hot\")\n",
    "    axs[row, col].set_title(\"Head {}\".format(j))"
   ]
  },
  {
   "cell_type": "code",
   "execution_count": 41,
   "metadata": {},
   "outputs": [
    {
     "name": "stdout",
     "output_type": "stream",
     "text": [
      "torch.Size([1, 10, 256])\n",
      "torch.Size([1, 10, 256])\n",
      "torch.Size([1, 10, 256])\n"
     ]
    }
   ],
   "source": [
    "x_emb = torch.randn((1, seq_len, 3 * 256))\n",
    "\n",
    "for d in x_emb.split(256, dim=2):\n",
    "    print(d.shape)\n"
   ]
  }
 ],
 "metadata": {
  "kernelspec": {
   "display_name": "my_master",
   "language": "python",
   "name": "python3"
  },
  "language_info": {
   "codemirror_mode": {
    "name": "ipython",
    "version": 3
   },
   "file_extension": ".py",
   "mimetype": "text/x-python",
   "name": "python",
   "nbconvert_exporter": "python",
   "pygments_lexer": "ipython3",
   "version": "3.9.18"
  }
 },
 "nbformat": 4,
 "nbformat_minor": 2
}
