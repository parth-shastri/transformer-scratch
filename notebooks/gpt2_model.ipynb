{
 "cells": [
  {
   "cell_type": "markdown",
   "metadata": {},
   "source": [
    "### Requirements"
   ]
  },
  {
   "cell_type": "code",
   "execution_count": 1,
   "metadata": {},
   "outputs": [],
   "source": [
    "# pip install -q transformers\n",
    "# pip install -q huggingface_hub"
   ]
  },
  {
   "cell_type": "markdown",
   "metadata": {},
   "source": [
    "### Load the GPT model and tokenizer from the HF library"
   ]
  },
  {
   "cell_type": "code",
   "execution_count": 2,
   "metadata": {},
   "outputs": [],
   "source": [
    "from transformers import AutoModelForCausalLM, AutoTokenizer\n",
    "import sys\n",
    "import os\n",
    "sys.path.append(os.path.dirname(os.path.dirname(os.path.abspath(\"gpt2_model.ipynb\"))))\n",
    "\n",
    "from mingpt import GPT\n",
    "from config import MyGPTConfig\n",
    "\n",
    "# gpt2\n",
    "gpt2 = AutoModelForCausalLM.from_pretrained(\"gpt2\")\n",
    "tokenizer = AutoTokenizer.from_pretrained(\"gpt2\")"
   ]
  },
  {
   "cell_type": "code",
   "execution_count": 3,
   "metadata": {},
   "outputs": [],
   "source": [
    "## Save the tokenizer to inspect\n",
    "# tokenizer.save_pretrained(\"gpt2-tokenizer\")"
   ]
  },
  {
   "cell_type": "code",
   "execution_count": 4,
   "metadata": {},
   "outputs": [
    {
     "name": "stdout",
     "output_type": "stream",
     "text": [
      "{'input_ids': tensor([[  32,  582,  373, 6155]]), 'attention_mask': tensor([[1, 1, 1, 1]])}\n",
      "A man was walking\n"
     ]
    }
   ],
   "source": [
    "# test the tokenizer\n",
    "sent = \"A man was walking\"\n",
    "tokenized_sent = tokenizer(sent, return_tensors=\"pt\")   # is equivalent to .encode_plus()\n",
    "print(tokenized_sent)\n",
    "\n",
    "# detokenize\n",
    "decoded_sent = tokenizer.decode(tokenized_sent.input_ids[0], skip_special_tokens=False)\n",
    "print(decoded_sent)"
   ]
  },
  {
   "cell_type": "code",
   "execution_count": 5,
   "metadata": {},
   "outputs": [
    {
     "name": "stdout",
     "output_type": "stream",
     "text": [
      "GPT2LMHeadModel(\n",
      "  (transformer): GPT2Model(\n",
      "    (wte): Embedding(50257, 768)\n",
      "    (wpe): Embedding(1024, 768)\n",
      "    (drop): Dropout(p=0.1, inplace=False)\n",
      "    (h): ModuleList(\n",
      "      (0-11): 12 x GPT2Block(\n",
      "        (ln_1): LayerNorm((768,), eps=1e-05, elementwise_affine=True)\n",
      "        (attn): GPT2Attention(\n",
      "          (c_attn): Conv1D()\n",
      "          (c_proj): Conv1D()\n",
      "          (attn_dropout): Dropout(p=0.1, inplace=False)\n",
      "          (resid_dropout): Dropout(p=0.1, inplace=False)\n",
      "        )\n",
      "        (ln_2): LayerNorm((768,), eps=1e-05, elementwise_affine=True)\n",
      "        (mlp): GPT2MLP(\n",
      "          (c_fc): Conv1D()\n",
      "          (c_proj): Conv1D()\n",
      "          (act): NewGELUActivation()\n",
      "          (dropout): Dropout(p=0.1, inplace=False)\n",
      "        )\n",
      "      )\n",
      "    )\n",
      "    (ln_f): LayerNorm((768,), eps=1e-05, elementwise_affine=True)\n",
      "  )\n",
      "  (lm_head): Linear(in_features=768, out_features=50257, bias=False)\n",
      ")\n"
     ]
    }
   ],
   "source": [
    "# look at the GPT2 model\n",
    "print(gpt2)"
   ]
  },
  {
   "cell_type": "code",
   "execution_count": 6,
   "metadata": {},
   "outputs": [
    {
     "name": "stdout",
     "output_type": "stream",
     "text": [
      "transformer.wte.weight : shape ==> torch.Size([50257, 768])\n",
      "transformer.wpe.weight : shape ==> torch.Size([1024, 768])\n",
      "transformer.h.0.ln_1.weight : shape ==> torch.Size([768])\n",
      "transformer.h.0.ln_1.bias : shape ==> torch.Size([768])\n",
      "transformer.h.0.attn.c_attn.weight : shape ==> torch.Size([768, 2304])\n",
      "transformer.h.0.attn.c_attn.bias : shape ==> torch.Size([2304])\n",
      "transformer.h.0.attn.c_proj.weight : shape ==> torch.Size([768, 768])\n",
      "transformer.h.0.attn.c_proj.bias : shape ==> torch.Size([768])\n",
      "transformer.h.0.ln_2.weight : shape ==> torch.Size([768])\n",
      "transformer.h.0.ln_2.bias : shape ==> torch.Size([768])\n",
      "transformer.h.0.mlp.c_fc.weight : shape ==> torch.Size([768, 3072])\n",
      "transformer.h.0.mlp.c_fc.bias : shape ==> torch.Size([3072])\n",
      "transformer.h.0.mlp.c_proj.weight : shape ==> torch.Size([3072, 768])\n",
      "transformer.h.0.mlp.c_proj.bias : shape ==> torch.Size([768])\n",
      "transformer.h.1.ln_1.weight : shape ==> torch.Size([768])\n",
      "transformer.h.1.ln_1.bias : shape ==> torch.Size([768])\n",
      "transformer.h.1.attn.c_attn.weight : shape ==> torch.Size([768, 2304])\n",
      "transformer.h.1.attn.c_attn.bias : shape ==> torch.Size([2304])\n",
      "transformer.h.1.attn.c_proj.weight : shape ==> torch.Size([768, 768])\n",
      "transformer.h.1.attn.c_proj.bias : shape ==> torch.Size([768])\n",
      "transformer.h.1.ln_2.weight : shape ==> torch.Size([768])\n",
      "transformer.h.1.ln_2.bias : shape ==> torch.Size([768])\n",
      "transformer.h.1.mlp.c_fc.weight : shape ==> torch.Size([768, 3072])\n",
      "transformer.h.1.mlp.c_fc.bias : shape ==> torch.Size([3072])\n",
      "transformer.h.1.mlp.c_proj.weight : shape ==> torch.Size([3072, 768])\n",
      "transformer.h.1.mlp.c_proj.bias : shape ==> torch.Size([768])\n",
      "transformer.h.2.ln_1.weight : shape ==> torch.Size([768])\n",
      "transformer.h.2.ln_1.bias : shape ==> torch.Size([768])\n",
      "transformer.h.2.attn.c_attn.weight : shape ==> torch.Size([768, 2304])\n",
      "transformer.h.2.attn.c_attn.bias : shape ==> torch.Size([2304])\n",
      "transformer.h.2.attn.c_proj.weight : shape ==> torch.Size([768, 768])\n",
      "transformer.h.2.attn.c_proj.bias : shape ==> torch.Size([768])\n",
      "transformer.h.2.ln_2.weight : shape ==> torch.Size([768])\n",
      "transformer.h.2.ln_2.bias : shape ==> torch.Size([768])\n",
      "transformer.h.2.mlp.c_fc.weight : shape ==> torch.Size([768, 3072])\n",
      "transformer.h.2.mlp.c_fc.bias : shape ==> torch.Size([3072])\n",
      "transformer.h.2.mlp.c_proj.weight : shape ==> torch.Size([3072, 768])\n",
      "transformer.h.2.mlp.c_proj.bias : shape ==> torch.Size([768])\n",
      "transformer.h.3.ln_1.weight : shape ==> torch.Size([768])\n",
      "transformer.h.3.ln_1.bias : shape ==> torch.Size([768])\n",
      "transformer.h.3.attn.c_attn.weight : shape ==> torch.Size([768, 2304])\n",
      "transformer.h.3.attn.c_attn.bias : shape ==> torch.Size([2304])\n",
      "transformer.h.3.attn.c_proj.weight : shape ==> torch.Size([768, 768])\n",
      "transformer.h.3.attn.c_proj.bias : shape ==> torch.Size([768])\n",
      "transformer.h.3.ln_2.weight : shape ==> torch.Size([768])\n",
      "transformer.h.3.ln_2.bias : shape ==> torch.Size([768])\n",
      "transformer.h.3.mlp.c_fc.weight : shape ==> torch.Size([768, 3072])\n",
      "transformer.h.3.mlp.c_fc.bias : shape ==> torch.Size([3072])\n",
      "transformer.h.3.mlp.c_proj.weight : shape ==> torch.Size([3072, 768])\n",
      "transformer.h.3.mlp.c_proj.bias : shape ==> torch.Size([768])\n",
      "transformer.h.4.ln_1.weight : shape ==> torch.Size([768])\n",
      "transformer.h.4.ln_1.bias : shape ==> torch.Size([768])\n",
      "transformer.h.4.attn.c_attn.weight : shape ==> torch.Size([768, 2304])\n",
      "transformer.h.4.attn.c_attn.bias : shape ==> torch.Size([2304])\n",
      "transformer.h.4.attn.c_proj.weight : shape ==> torch.Size([768, 768])\n",
      "transformer.h.4.attn.c_proj.bias : shape ==> torch.Size([768])\n",
      "transformer.h.4.ln_2.weight : shape ==> torch.Size([768])\n",
      "transformer.h.4.ln_2.bias : shape ==> torch.Size([768])\n",
      "transformer.h.4.mlp.c_fc.weight : shape ==> torch.Size([768, 3072])\n",
      "transformer.h.4.mlp.c_fc.bias : shape ==> torch.Size([3072])\n",
      "transformer.h.4.mlp.c_proj.weight : shape ==> torch.Size([3072, 768])\n",
      "transformer.h.4.mlp.c_proj.bias : shape ==> torch.Size([768])\n",
      "transformer.h.5.ln_1.weight : shape ==> torch.Size([768])\n",
      "transformer.h.5.ln_1.bias : shape ==> torch.Size([768])\n",
      "transformer.h.5.attn.c_attn.weight : shape ==> torch.Size([768, 2304])\n",
      "transformer.h.5.attn.c_attn.bias : shape ==> torch.Size([2304])\n",
      "transformer.h.5.attn.c_proj.weight : shape ==> torch.Size([768, 768])\n",
      "transformer.h.5.attn.c_proj.bias : shape ==> torch.Size([768])\n",
      "transformer.h.5.ln_2.weight : shape ==> torch.Size([768])\n",
      "transformer.h.5.ln_2.bias : shape ==> torch.Size([768])\n",
      "transformer.h.5.mlp.c_fc.weight : shape ==> torch.Size([768, 3072])\n",
      "transformer.h.5.mlp.c_fc.bias : shape ==> torch.Size([3072])\n",
      "transformer.h.5.mlp.c_proj.weight : shape ==> torch.Size([3072, 768])\n",
      "transformer.h.5.mlp.c_proj.bias : shape ==> torch.Size([768])\n",
      "transformer.h.6.ln_1.weight : shape ==> torch.Size([768])\n",
      "transformer.h.6.ln_1.bias : shape ==> torch.Size([768])\n",
      "transformer.h.6.attn.c_attn.weight : shape ==> torch.Size([768, 2304])\n",
      "transformer.h.6.attn.c_attn.bias : shape ==> torch.Size([2304])\n",
      "transformer.h.6.attn.c_proj.weight : shape ==> torch.Size([768, 768])\n",
      "transformer.h.6.attn.c_proj.bias : shape ==> torch.Size([768])\n",
      "transformer.h.6.ln_2.weight : shape ==> torch.Size([768])\n",
      "transformer.h.6.ln_2.bias : shape ==> torch.Size([768])\n",
      "transformer.h.6.mlp.c_fc.weight : shape ==> torch.Size([768, 3072])\n",
      "transformer.h.6.mlp.c_fc.bias : shape ==> torch.Size([3072])\n",
      "transformer.h.6.mlp.c_proj.weight : shape ==> torch.Size([3072, 768])\n",
      "transformer.h.6.mlp.c_proj.bias : shape ==> torch.Size([768])\n",
      "transformer.h.7.ln_1.weight : shape ==> torch.Size([768])\n",
      "transformer.h.7.ln_1.bias : shape ==> torch.Size([768])\n",
      "transformer.h.7.attn.c_attn.weight : shape ==> torch.Size([768, 2304])\n",
      "transformer.h.7.attn.c_attn.bias : shape ==> torch.Size([2304])\n",
      "transformer.h.7.attn.c_proj.weight : shape ==> torch.Size([768, 768])\n",
      "transformer.h.7.attn.c_proj.bias : shape ==> torch.Size([768])\n",
      "transformer.h.7.ln_2.weight : shape ==> torch.Size([768])\n",
      "transformer.h.7.ln_2.bias : shape ==> torch.Size([768])\n",
      "transformer.h.7.mlp.c_fc.weight : shape ==> torch.Size([768, 3072])\n",
      "transformer.h.7.mlp.c_fc.bias : shape ==> torch.Size([3072])\n",
      "transformer.h.7.mlp.c_proj.weight : shape ==> torch.Size([3072, 768])\n",
      "transformer.h.7.mlp.c_proj.bias : shape ==> torch.Size([768])\n",
      "transformer.h.8.ln_1.weight : shape ==> torch.Size([768])\n",
      "transformer.h.8.ln_1.bias : shape ==> torch.Size([768])\n",
      "transformer.h.8.attn.c_attn.weight : shape ==> torch.Size([768, 2304])\n",
      "transformer.h.8.attn.c_attn.bias : shape ==> torch.Size([2304])\n",
      "transformer.h.8.attn.c_proj.weight : shape ==> torch.Size([768, 768])\n",
      "transformer.h.8.attn.c_proj.bias : shape ==> torch.Size([768])\n",
      "transformer.h.8.ln_2.weight : shape ==> torch.Size([768])\n",
      "transformer.h.8.ln_2.bias : shape ==> torch.Size([768])\n",
      "transformer.h.8.mlp.c_fc.weight : shape ==> torch.Size([768, 3072])\n",
      "transformer.h.8.mlp.c_fc.bias : shape ==> torch.Size([3072])\n",
      "transformer.h.8.mlp.c_proj.weight : shape ==> torch.Size([3072, 768])\n",
      "transformer.h.8.mlp.c_proj.bias : shape ==> torch.Size([768])\n",
      "transformer.h.9.ln_1.weight : shape ==> torch.Size([768])\n",
      "transformer.h.9.ln_1.bias : shape ==> torch.Size([768])\n",
      "transformer.h.9.attn.c_attn.weight : shape ==> torch.Size([768, 2304])\n",
      "transformer.h.9.attn.c_attn.bias : shape ==> torch.Size([2304])\n",
      "transformer.h.9.attn.c_proj.weight : shape ==> torch.Size([768, 768])\n",
      "transformer.h.9.attn.c_proj.bias : shape ==> torch.Size([768])\n",
      "transformer.h.9.ln_2.weight : shape ==> torch.Size([768])\n",
      "transformer.h.9.ln_2.bias : shape ==> torch.Size([768])\n",
      "transformer.h.9.mlp.c_fc.weight : shape ==> torch.Size([768, 3072])\n",
      "transformer.h.9.mlp.c_fc.bias : shape ==> torch.Size([3072])\n",
      "transformer.h.9.mlp.c_proj.weight : shape ==> torch.Size([3072, 768])\n",
      "transformer.h.9.mlp.c_proj.bias : shape ==> torch.Size([768])\n",
      "transformer.h.10.ln_1.weight : shape ==> torch.Size([768])\n",
      "transformer.h.10.ln_1.bias : shape ==> torch.Size([768])\n",
      "transformer.h.10.attn.c_attn.weight : shape ==> torch.Size([768, 2304])\n",
      "transformer.h.10.attn.c_attn.bias : shape ==> torch.Size([2304])\n",
      "transformer.h.10.attn.c_proj.weight : shape ==> torch.Size([768, 768])\n",
      "transformer.h.10.attn.c_proj.bias : shape ==> torch.Size([768])\n",
      "transformer.h.10.ln_2.weight : shape ==> torch.Size([768])\n",
      "transformer.h.10.ln_2.bias : shape ==> torch.Size([768])\n",
      "transformer.h.10.mlp.c_fc.weight : shape ==> torch.Size([768, 3072])\n",
      "transformer.h.10.mlp.c_fc.bias : shape ==> torch.Size([3072])\n",
      "transformer.h.10.mlp.c_proj.weight : shape ==> torch.Size([3072, 768])\n",
      "transformer.h.10.mlp.c_proj.bias : shape ==> torch.Size([768])\n",
      "transformer.h.11.ln_1.weight : shape ==> torch.Size([768])\n",
      "transformer.h.11.ln_1.bias : shape ==> torch.Size([768])\n",
      "transformer.h.11.attn.c_attn.weight : shape ==> torch.Size([768, 2304])\n",
      "transformer.h.11.attn.c_attn.bias : shape ==> torch.Size([2304])\n",
      "transformer.h.11.attn.c_proj.weight : shape ==> torch.Size([768, 768])\n",
      "transformer.h.11.attn.c_proj.bias : shape ==> torch.Size([768])\n",
      "transformer.h.11.ln_2.weight : shape ==> torch.Size([768])\n",
      "transformer.h.11.ln_2.bias : shape ==> torch.Size([768])\n",
      "transformer.h.11.mlp.c_fc.weight : shape ==> torch.Size([768, 3072])\n",
      "transformer.h.11.mlp.c_fc.bias : shape ==> torch.Size([3072])\n",
      "transformer.h.11.mlp.c_proj.weight : shape ==> torch.Size([3072, 768])\n",
      "transformer.h.11.mlp.c_proj.bias : shape ==> torch.Size([768])\n",
      "transformer.ln_f.weight : shape ==> torch.Size([768])\n",
      "transformer.ln_f.bias : shape ==> torch.Size([768])\n"
     ]
    }
   ],
   "source": [
    "# look at the parameter names\n",
    "for pn, p in gpt2.named_parameters():\n",
    "    print(pn, \": shape ==>\", p.shape)"
   ]
  },
  {
   "cell_type": "code",
   "execution_count": 7,
   "metadata": {},
   "outputs": [],
   "source": [
    "from transformers import GPT2LMHeadModel\n",
    "lmhead = GPT2LMHeadModel.from_pretrained(\"gpt2\")"
   ]
  },
  {
   "cell_type": "markdown",
   "metadata": {},
   "source": [
    "### Look at the generation response"
   ]
  },
  {
   "cell_type": "code",
   "execution_count": 8,
   "metadata": {},
   "outputs": [
    {
     "name": "stderr",
     "output_type": "stream",
     "text": [
      "Setting `pad_token_id` to `eos_token_id`:50256 for open-end generation.\n"
     ]
    },
    {
     "name": "stdout",
     "output_type": "stream",
     "text": [
      "[{'generated_text': \"My name is Matt, and I'm one of the few guys in my life that has ever thought of being a professional. This is my first game as a professional, and at least for me that means something. For years I had to sit and\"}]\n"
     ]
    }
   ],
   "source": [
    "from transformers import pipeline\n",
    "\n",
    "pipe = pipeline(\n",
    "    \"text-generation\",\n",
    "    model=gpt2,\n",
    "    tokenizer=tokenizer\n",
    "\n",
    ")\n",
    "output = pipe(\"My name is\")\n",
    "print(output)"
   ]
  },
  {
   "cell_type": "markdown",
   "metadata": {},
   "source": [
    "### Generate through the `AutoModel.generate()` method ```GenerationConfig```"
   ]
  },
  {
   "cell_type": "code",
   "execution_count": 9,
   "metadata": {},
   "outputs": [
    {
     "name": "stdout",
     "output_type": "stream",
     "text": [
      "54\n"
     ]
    },
    {
     "data": {
      "text/plain": [
       "\"A man was walking down the street when he saw a man with a gun. He ran to the man's house and shot him.\\n\\nThe man was taken to the hospital where he was pronounced dead.\\n\\nThe man's family said he was a good kid\""
      ]
     },
     "execution_count": 9,
     "metadata": {},
     "output_type": "execute_result"
    }
   ],
   "source": [
    "# generate through the models method\n",
    "input_ids = tokenized_sent['input_ids']\n",
    "\n",
    "from transformers import GenerationConfig\n",
    "gen_config = GenerationConfig(\n",
    "    max_new_tokens=50,\n",
    "    max_length=1024,\n",
    "    # temperature=0.8,\n",
    "    pad_token_id=50256,\n",
    "    # greedy decoding\n",
    "    num_beams=1,\n",
    "    do_sample=False\n",
    ")\n",
    "\n",
    "out = lmhead.generate(input_ids, gen_config)\n",
    "print(len(out[0]))\n",
    "tokenizer.decode(out[0])"
   ]
  },
  {
   "cell_type": "code",
   "execution_count": 10,
   "metadata": {},
   "outputs": [
    {
     "name": "stdout",
     "output_type": "stream",
     "text": [
      "{'input_ids': tensor([[    1,   319,   767,   471, 22049]]), 'attention_mask': tensor([[1, 1, 1, 1, 1]])}\n",
      "<s> A man was walking\n"
     ]
    }
   ],
   "source": [
    "llama_tokenizer = AutoTokenizer.from_pretrained(\"meta-llama/Llama-2-7b-hf\")\n",
    "llama_tokenizer.pad_token = llama_tokenizer.eos_token\n",
    "llama_tokenized = llama_tokenizer(\n",
    "    sent,\n",
    "    # padding=\"max_length\",\n",
    "    add_special_tokens=True,\n",
    "    return_tensors='pt',\n",
    "    # max_length=512,\n",
    "    )\n",
    "print(llama_tokenized)\n",
    "\n",
    "# decode\n",
    "decoded_llama = llama_tokenizer.decode(llama_tokenized[\"input_ids\"][0], skip_special_tokens=False)\n",
    "\n",
    "print(decoded_llama)\n"
   ]
  },
  {
   "cell_type": "code",
   "execution_count": 11,
   "metadata": {},
   "outputs": [
    {
     "data": {
      "text/plain": [
       "('llama-tokenizer/tokenizer_config.json',\n",
       " 'llama-tokenizer/special_tokens_map.json',\n",
       " 'llama-tokenizer/tokenizer.model',\n",
       " 'llama-tokenizer/added_tokens.json',\n",
       " 'llama-tokenizer/tokenizer.json')"
      ]
     },
     "execution_count": 11,
     "metadata": {},
     "output_type": "execute_result"
    }
   ],
   "source": [
    "llama_tokenizer.save_pretrained(\"llama-tokenizer/\")"
   ]
  },
  {
   "cell_type": "markdown",
   "metadata": {},
   "source": [
    "### Look at the parameter numbers"
   ]
  },
  {
   "cell_type": "code",
   "execution_count": 12,
   "metadata": {},
   "outputs": [
    {
     "name": "stdout",
     "output_type": "stream",
     "text": [
      "Number of parameters in GPT2-HF:  124\n"
     ]
    }
   ],
   "source": [
    "print(\n",
    "    \"Number of parameters in GPT2-HF: \",\n",
    "    sum(p.numel() for p in gpt2.parameters())//10**6\n",
    "    )"
   ]
  },
  {
   "cell_type": "markdown",
   "metadata": {},
   "source": [
    "### Check our Karpathy inspired mingpt model"
   ]
  },
  {
   "cell_type": "code",
   "execution_count": 13,
   "metadata": {},
   "outputs": [
    {
     "name": "stdout",
     "output_type": "stream",
     "text": [
      "number of parameters: 124.44M\n"
     ]
    }
   ],
   "source": [
    "# load the mingpt model\n",
    "# mingpt = GPT.load_pretrained(\"gpt2\")\n",
    "config = MyGPTConfig()\n",
    "mingpt = GPT(config)"
   ]
  },
  {
   "cell_type": "code",
   "execution_count": 14,
   "metadata": {},
   "outputs": [
    {
     "name": "stdout",
     "output_type": "stream",
     "text": [
      "149\n",
      "transformer.wte.weight : shape ==>  torch.Size([50257, 768])\n",
      "transformer.wpe.weight : shape ==>  torch.Size([1024, 768])\n",
      "transformer.h.0.ln_1.weight : shape ==>  torch.Size([768])\n",
      "transformer.h.0.ln_1.bias : shape ==>  torch.Size([768])\n",
      "transformer.h.0.attn.masked_bias : shape ==>  torch.Size([1, 1, 1024, 1024])\n",
      "transformer.h.0.attn.c_attn.weight : shape ==>  torch.Size([2304, 768])\n",
      "transformer.h.0.attn.c_attn.bias : shape ==>  torch.Size([2304])\n",
      "transformer.h.0.attn.c_proj.weight : shape ==>  torch.Size([768, 768])\n",
      "transformer.h.0.attn.c_proj.bias : shape ==>  torch.Size([768])\n",
      "transformer.h.0.ln_2.weight : shape ==>  torch.Size([768])\n",
      "transformer.h.0.ln_2.bias : shape ==>  torch.Size([768])\n",
      "transformer.h.0.mlp.c_fc.weight : shape ==>  torch.Size([3072, 768])\n",
      "transformer.h.0.mlp.c_fc.bias : shape ==>  torch.Size([3072])\n",
      "transformer.h.0.mlp.c_proj.weight : shape ==>  torch.Size([768, 3072])\n",
      "transformer.h.0.mlp.c_proj.bias : shape ==>  torch.Size([768])\n",
      "transformer.h.1.ln_1.weight : shape ==>  torch.Size([768])\n",
      "transformer.h.1.ln_1.bias : shape ==>  torch.Size([768])\n",
      "transformer.h.1.attn.masked_bias : shape ==>  torch.Size([1, 1, 1024, 1024])\n",
      "transformer.h.1.attn.c_attn.weight : shape ==>  torch.Size([2304, 768])\n",
      "transformer.h.1.attn.c_attn.bias : shape ==>  torch.Size([2304])\n",
      "transformer.h.1.attn.c_proj.weight : shape ==>  torch.Size([768, 768])\n",
      "transformer.h.1.attn.c_proj.bias : shape ==>  torch.Size([768])\n",
      "transformer.h.1.ln_2.weight : shape ==>  torch.Size([768])\n",
      "transformer.h.1.ln_2.bias : shape ==>  torch.Size([768])\n",
      "transformer.h.1.mlp.c_fc.weight : shape ==>  torch.Size([3072, 768])\n",
      "transformer.h.1.mlp.c_fc.bias : shape ==>  torch.Size([3072])\n",
      "transformer.h.1.mlp.c_proj.weight : shape ==>  torch.Size([768, 3072])\n",
      "transformer.h.1.mlp.c_proj.bias : shape ==>  torch.Size([768])\n",
      "transformer.h.2.ln_1.weight : shape ==>  torch.Size([768])\n",
      "transformer.h.2.ln_1.bias : shape ==>  torch.Size([768])\n",
      "transformer.h.2.attn.masked_bias : shape ==>  torch.Size([1, 1, 1024, 1024])\n",
      "transformer.h.2.attn.c_attn.weight : shape ==>  torch.Size([2304, 768])\n",
      "transformer.h.2.attn.c_attn.bias : shape ==>  torch.Size([2304])\n",
      "transformer.h.2.attn.c_proj.weight : shape ==>  torch.Size([768, 768])\n",
      "transformer.h.2.attn.c_proj.bias : shape ==>  torch.Size([768])\n",
      "transformer.h.2.ln_2.weight : shape ==>  torch.Size([768])\n",
      "transformer.h.2.ln_2.bias : shape ==>  torch.Size([768])\n",
      "transformer.h.2.mlp.c_fc.weight : shape ==>  torch.Size([3072, 768])\n",
      "transformer.h.2.mlp.c_fc.bias : shape ==>  torch.Size([3072])\n",
      "transformer.h.2.mlp.c_proj.weight : shape ==>  torch.Size([768, 3072])\n",
      "transformer.h.2.mlp.c_proj.bias : shape ==>  torch.Size([768])\n",
      "transformer.h.3.ln_1.weight : shape ==>  torch.Size([768])\n",
      "transformer.h.3.ln_1.bias : shape ==>  torch.Size([768])\n",
      "transformer.h.3.attn.masked_bias : shape ==>  torch.Size([1, 1, 1024, 1024])\n",
      "transformer.h.3.attn.c_attn.weight : shape ==>  torch.Size([2304, 768])\n",
      "transformer.h.3.attn.c_attn.bias : shape ==>  torch.Size([2304])\n",
      "transformer.h.3.attn.c_proj.weight : shape ==>  torch.Size([768, 768])\n",
      "transformer.h.3.attn.c_proj.bias : shape ==>  torch.Size([768])\n",
      "transformer.h.3.ln_2.weight : shape ==>  torch.Size([768])\n",
      "transformer.h.3.ln_2.bias : shape ==>  torch.Size([768])\n",
      "transformer.h.3.mlp.c_fc.weight : shape ==>  torch.Size([3072, 768])\n",
      "transformer.h.3.mlp.c_fc.bias : shape ==>  torch.Size([3072])\n",
      "transformer.h.3.mlp.c_proj.weight : shape ==>  torch.Size([768, 3072])\n",
      "transformer.h.3.mlp.c_proj.bias : shape ==>  torch.Size([768])\n",
      "transformer.h.4.ln_1.weight : shape ==>  torch.Size([768])\n",
      "transformer.h.4.ln_1.bias : shape ==>  torch.Size([768])\n",
      "transformer.h.4.attn.masked_bias : shape ==>  torch.Size([1, 1, 1024, 1024])\n",
      "transformer.h.4.attn.c_attn.weight : shape ==>  torch.Size([2304, 768])\n",
      "transformer.h.4.attn.c_attn.bias : shape ==>  torch.Size([2304])\n",
      "transformer.h.4.attn.c_proj.weight : shape ==>  torch.Size([768, 768])\n",
      "transformer.h.4.attn.c_proj.bias : shape ==>  torch.Size([768])\n",
      "transformer.h.4.ln_2.weight : shape ==>  torch.Size([768])\n",
      "transformer.h.4.ln_2.bias : shape ==>  torch.Size([768])\n",
      "transformer.h.4.mlp.c_fc.weight : shape ==>  torch.Size([3072, 768])\n",
      "transformer.h.4.mlp.c_fc.bias : shape ==>  torch.Size([3072])\n",
      "transformer.h.4.mlp.c_proj.weight : shape ==>  torch.Size([768, 3072])\n",
      "transformer.h.4.mlp.c_proj.bias : shape ==>  torch.Size([768])\n",
      "transformer.h.5.ln_1.weight : shape ==>  torch.Size([768])\n",
      "transformer.h.5.ln_1.bias : shape ==>  torch.Size([768])\n",
      "transformer.h.5.attn.masked_bias : shape ==>  torch.Size([1, 1, 1024, 1024])\n",
      "transformer.h.5.attn.c_attn.weight : shape ==>  torch.Size([2304, 768])\n",
      "transformer.h.5.attn.c_attn.bias : shape ==>  torch.Size([2304])\n",
      "transformer.h.5.attn.c_proj.weight : shape ==>  torch.Size([768, 768])\n",
      "transformer.h.5.attn.c_proj.bias : shape ==>  torch.Size([768])\n",
      "transformer.h.5.ln_2.weight : shape ==>  torch.Size([768])\n",
      "transformer.h.5.ln_2.bias : shape ==>  torch.Size([768])\n",
      "transformer.h.5.mlp.c_fc.weight : shape ==>  torch.Size([3072, 768])\n",
      "transformer.h.5.mlp.c_fc.bias : shape ==>  torch.Size([3072])\n",
      "transformer.h.5.mlp.c_proj.weight : shape ==>  torch.Size([768, 3072])\n",
      "transformer.h.5.mlp.c_proj.bias : shape ==>  torch.Size([768])\n",
      "transformer.h.6.ln_1.weight : shape ==>  torch.Size([768])\n",
      "transformer.h.6.ln_1.bias : shape ==>  torch.Size([768])\n",
      "transformer.h.6.attn.masked_bias : shape ==>  torch.Size([1, 1, 1024, 1024])\n",
      "transformer.h.6.attn.c_attn.weight : shape ==>  torch.Size([2304, 768])\n",
      "transformer.h.6.attn.c_attn.bias : shape ==>  torch.Size([2304])\n",
      "transformer.h.6.attn.c_proj.weight : shape ==>  torch.Size([768, 768])\n",
      "transformer.h.6.attn.c_proj.bias : shape ==>  torch.Size([768])\n",
      "transformer.h.6.ln_2.weight : shape ==>  torch.Size([768])\n",
      "transformer.h.6.ln_2.bias : shape ==>  torch.Size([768])\n",
      "transformer.h.6.mlp.c_fc.weight : shape ==>  torch.Size([3072, 768])\n",
      "transformer.h.6.mlp.c_fc.bias : shape ==>  torch.Size([3072])\n",
      "transformer.h.6.mlp.c_proj.weight : shape ==>  torch.Size([768, 3072])\n",
      "transformer.h.6.mlp.c_proj.bias : shape ==>  torch.Size([768])\n",
      "transformer.h.7.ln_1.weight : shape ==>  torch.Size([768])\n",
      "transformer.h.7.ln_1.bias : shape ==>  torch.Size([768])\n",
      "transformer.h.7.attn.masked_bias : shape ==>  torch.Size([1, 1, 1024, 1024])\n",
      "transformer.h.7.attn.c_attn.weight : shape ==>  torch.Size([2304, 768])\n",
      "transformer.h.7.attn.c_attn.bias : shape ==>  torch.Size([2304])\n",
      "transformer.h.7.attn.c_proj.weight : shape ==>  torch.Size([768, 768])\n",
      "transformer.h.7.attn.c_proj.bias : shape ==>  torch.Size([768])\n",
      "transformer.h.7.ln_2.weight : shape ==>  torch.Size([768])\n",
      "transformer.h.7.ln_2.bias : shape ==>  torch.Size([768])\n",
      "transformer.h.7.mlp.c_fc.weight : shape ==>  torch.Size([3072, 768])\n",
      "transformer.h.7.mlp.c_fc.bias : shape ==>  torch.Size([3072])\n",
      "transformer.h.7.mlp.c_proj.weight : shape ==>  torch.Size([768, 3072])\n",
      "transformer.h.7.mlp.c_proj.bias : shape ==>  torch.Size([768])\n",
      "transformer.h.8.ln_1.weight : shape ==>  torch.Size([768])\n",
      "transformer.h.8.ln_1.bias : shape ==>  torch.Size([768])\n",
      "transformer.h.8.attn.masked_bias : shape ==>  torch.Size([1, 1, 1024, 1024])\n",
      "transformer.h.8.attn.c_attn.weight : shape ==>  torch.Size([2304, 768])\n",
      "transformer.h.8.attn.c_attn.bias : shape ==>  torch.Size([2304])\n",
      "transformer.h.8.attn.c_proj.weight : shape ==>  torch.Size([768, 768])\n",
      "transformer.h.8.attn.c_proj.bias : shape ==>  torch.Size([768])\n",
      "transformer.h.8.ln_2.weight : shape ==>  torch.Size([768])\n",
      "transformer.h.8.ln_2.bias : shape ==>  torch.Size([768])\n",
      "transformer.h.8.mlp.c_fc.weight : shape ==>  torch.Size([3072, 768])\n",
      "transformer.h.8.mlp.c_fc.bias : shape ==>  torch.Size([3072])\n",
      "transformer.h.8.mlp.c_proj.weight : shape ==>  torch.Size([768, 3072])\n",
      "transformer.h.8.mlp.c_proj.bias : shape ==>  torch.Size([768])\n",
      "transformer.h.9.ln_1.weight : shape ==>  torch.Size([768])\n",
      "transformer.h.9.ln_1.bias : shape ==>  torch.Size([768])\n",
      "transformer.h.9.attn.masked_bias : shape ==>  torch.Size([1, 1, 1024, 1024])\n",
      "transformer.h.9.attn.c_attn.weight : shape ==>  torch.Size([2304, 768])\n",
      "transformer.h.9.attn.c_attn.bias : shape ==>  torch.Size([2304])\n",
      "transformer.h.9.attn.c_proj.weight : shape ==>  torch.Size([768, 768])\n",
      "transformer.h.9.attn.c_proj.bias : shape ==>  torch.Size([768])\n",
      "transformer.h.9.ln_2.weight : shape ==>  torch.Size([768])\n",
      "transformer.h.9.ln_2.bias : shape ==>  torch.Size([768])\n",
      "transformer.h.9.mlp.c_fc.weight : shape ==>  torch.Size([3072, 768])\n",
      "transformer.h.9.mlp.c_fc.bias : shape ==>  torch.Size([3072])\n",
      "transformer.h.9.mlp.c_proj.weight : shape ==>  torch.Size([768, 3072])\n",
      "transformer.h.9.mlp.c_proj.bias : shape ==>  torch.Size([768])\n",
      "transformer.h.10.ln_1.weight : shape ==>  torch.Size([768])\n",
      "transformer.h.10.ln_1.bias : shape ==>  torch.Size([768])\n",
      "transformer.h.10.attn.masked_bias : shape ==>  torch.Size([1, 1, 1024, 1024])\n",
      "transformer.h.10.attn.c_attn.weight : shape ==>  torch.Size([2304, 768])\n",
      "transformer.h.10.attn.c_attn.bias : shape ==>  torch.Size([2304])\n",
      "transformer.h.10.attn.c_proj.weight : shape ==>  torch.Size([768, 768])\n",
      "transformer.h.10.attn.c_proj.bias : shape ==>  torch.Size([768])\n",
      "transformer.h.10.ln_2.weight : shape ==>  torch.Size([768])\n",
      "transformer.h.10.ln_2.bias : shape ==>  torch.Size([768])\n",
      "transformer.h.10.mlp.c_fc.weight : shape ==>  torch.Size([3072, 768])\n",
      "transformer.h.10.mlp.c_fc.bias : shape ==>  torch.Size([3072])\n",
      "transformer.h.10.mlp.c_proj.weight : shape ==>  torch.Size([768, 3072])\n",
      "transformer.h.10.mlp.c_proj.bias : shape ==>  torch.Size([768])\n",
      "transformer.h.11.ln_1.weight : shape ==>  torch.Size([768])\n",
      "transformer.h.11.ln_1.bias : shape ==>  torch.Size([768])\n",
      "transformer.h.11.attn.masked_bias : shape ==>  torch.Size([1, 1, 1024, 1024])\n",
      "transformer.h.11.attn.c_attn.weight : shape ==>  torch.Size([2304, 768])\n",
      "transformer.h.11.attn.c_attn.bias : shape ==>  torch.Size([2304])\n",
      "transformer.h.11.attn.c_proj.weight : shape ==>  torch.Size([768, 768])\n",
      "transformer.h.11.attn.c_proj.bias : shape ==>  torch.Size([768])\n",
      "transformer.h.11.ln_2.weight : shape ==>  torch.Size([768])\n",
      "transformer.h.11.ln_2.bias : shape ==>  torch.Size([768])\n",
      "transformer.h.11.mlp.c_fc.weight : shape ==>  torch.Size([3072, 768])\n",
      "transformer.h.11.mlp.c_fc.bias : shape ==>  torch.Size([3072])\n",
      "transformer.h.11.mlp.c_proj.weight : shape ==>  torch.Size([768, 3072])\n",
      "transformer.h.11.mlp.c_proj.bias : shape ==>  torch.Size([768])\n",
      "transformer.ln_f.weight : shape ==>  torch.Size([768])\n",
      "transformer.ln_f.bias : shape ==>  torch.Size([768])\n",
      "lm_head.weight : shape ==>  torch.Size([50257, 768])\n"
     ]
    }
   ],
   "source": [
    "mingpt_sd = mingpt.state_dict()\n",
    "\n",
    "keys = [k for k in mingpt_sd if not k.endswith(\"attn.masked_bias\")]  \n",
    "print(len(keys))\n",
    "\n",
    "for k, v in mingpt_sd.items():\n",
    "    print(k, \": shape ==> \", v.shape)"
   ]
  },
  {
   "cell_type": "code",
   "execution_count": 15,
   "metadata": {},
   "outputs": [
    {
     "name": "stdout",
     "output_type": "stream",
     "text": [
      "number of parameters: 124.44M\n"
     ]
    }
   ],
   "source": [
    "# load _pretrained = \n",
    "pre_load = GPT.load_pretrained(\"gpt2\")"
   ]
  },
  {
   "cell_type": "code",
   "execution_count": null,
   "metadata": {},
   "outputs": [
    {
     "data": {
      "text/plain": [
       "torch.Size([1, 4])"
      ]
     },
     "execution_count": 16,
     "metadata": {},
     "output_type": "execute_result"
    }
   ],
   "source": [
    "input_ids.shape\n"
   ]
  },
  {
   "cell_type": "code",
   "execution_count": 18,
   "metadata": {},
   "outputs": [
    {
     "data": {
      "text/plain": [
       "'A man was walking in central London, wearing a white lace dress and blue tie. Another man arriving later said he saw the man leave the markets for the night alone.\\n\\nHe said he purchased a pair of tennis shoesد تحمدد, which he brought home for their holiday.\\n\\nThe man had said he had heard the man locked himself in his bathroom.\\n\\nHe said he had wandered out at about 3.45am, when he saw the man take off his shirt he'"
      ]
     },
     "execution_count": 18,
     "metadata": {},
     "output_type": "execute_result"
    }
   ],
   "source": [
    "# perform inference on our tokens\n",
    "pre_load.eval()\n",
    "out_tokens = pre_load.generate(input_ids, max_new_tokens=100, temperature=0.9, do_sample=True)\n",
    "\n",
    "# decode the out tokens\n",
    "output = tokenizer.decode(out_tokens[0], skip_special_tokens=False)\n",
    "output"
   ]
  },
  {
   "cell_type": "code",
   "execution_count": null,
   "metadata": {},
   "outputs": [],
   "source": [
    "# compare weights of the lmhead model with pre_load\n",
    "our_sd = pre_load.state_dict()\n",
    "sd_hf = lmhead.state_dict()\n",
    "\n",
    "keys = [k for k in sd_hf if not k.endswith(\"attn.masked_bias\")]\n",
    "transposed = [\"attn.c_attn.weight\", \"attn.c_proj.weight\", \"mlp.c_fc.weight\", \"mlp.c_proj.weight\"]\n",
    "\n",
    "assert len(keys) == len(sd_hf)\n",
    "for k in keys:\n",
    "    if any(k.endswith(w) for w in transposed):\n",
    "        # transpose the conv weights in the original GPT model\n",
    "        assert (\n",
    "            sd_hf[k].shape[::-1] == our_sd[k].shape\n",
    "        ), f\"Transpose shape mismatch for {k}. Found {sd_hf[k].shape} and {sd[k].shape}\"\n",
    "        assert sd_hf[k].t().equal(our_sd[k])\n",
    "\n",
    "    else:\n",
    "        # vanilla copy for all the others\n",
    "        assert sd_hf[k].shape == our_sd[k].shape, f\"Shape mismatch for {k}. Found {sd_hf[k].shape} and {sd[k].shape}\"\n",
    "        assert sd_hf[k].equal(our_sd[k])"
   ]
  },
  {
   "cell_type": "code",
   "execution_count": 24,
   "metadata": {},
   "outputs": [
    {
     "data": {
      "text/plain": [
       "149"
      ]
     },
     "execution_count": 24,
     "metadata": {},
     "output_type": "execute_result"
    }
   ],
   "source": []
  }
 ],
 "metadata": {
  "kernelspec": {
   "display_name": "my_master",
   "language": "python",
   "name": "python3"
  },
  "language_info": {
   "codemirror_mode": {
    "name": "ipython",
    "version": 3
   },
   "file_extension": ".py",
   "mimetype": "text/x-python",
   "name": "python",
   "nbconvert_exporter": "python",
   "pygments_lexer": "ipython3",
   "version": "3.9.18"
  }
 },
 "nbformat": 4,
 "nbformat_minor": 2
}
